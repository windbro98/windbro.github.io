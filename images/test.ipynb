{
 "cells": [
  {
   "cell_type": "code",
   "execution_count": 6,
   "metadata": {},
   "outputs": [
    {
     "ename": "ValueError",
     "evalue": "bad mode <function myfun at 0x000001713BB95700>",
     "output_type": "error",
     "traceback": [
      "\u001b[1;31m---------------------------------------------------------------------------\u001b[0m",
      "\u001b[1;31mValueError\u001b[0m                                Traceback (most recent call last)",
      "\u001b[1;32md:\\learning_programs\\hexo_programs\\mywebsite\\themes\\next\\source\\images\\test.ipynb Cell 1\u001b[0m line \u001b[0;36m6\n\u001b[0;32m      <a href='vscode-notebook-cell:/d%3A/learning_programs/hexo_programs/mywebsite/themes/next/source/images/test.ipynb#W0sZmlsZQ%3D%3D?line=2'>3</a>\u001b[0m     \u001b[39mprint\u001b[39m(x)\n\u001b[0;32m      <a href='vscode-notebook-cell:/d%3A/learning_programs/hexo_programs/mywebsite/themes/next/source/images/test.ipynb#W0sZmlsZQ%3D%3D?line=3'>4</a>\u001b[0m     \u001b[39mreturn\u001b[39;00m x\u001b[39m*\u001b[39m\u001b[39m2\u001b[39m\n\u001b[1;32m----> <a href='vscode-notebook-cell:/d%3A/learning_programs/hexo_programs/mywebsite/themes/next/source/images/test.ipynb#W0sZmlsZQ%3D%3D?line=5'>6</a>\u001b[0m im \u001b[39m=\u001b[39m Image\u001b[39m.\u001b[39;49mopen(\u001b[39m\"\u001b[39;49m\u001b[39mlogo.jpg\u001b[39;49m\u001b[39m\"\u001b[39;49m, myfun)\n",
      "File \u001b[1;32md:\\Anaconda\\envs\\routine\\lib\\site-packages\\PIL\\Image.py:2955\u001b[0m, in \u001b[0;36mopen\u001b[1;34m(fp, mode, formats)\u001b[0m\n\u001b[0;32m   2926\u001b[0m \u001b[39m\u001b[39m\u001b[39m\"\"\"\u001b[39;00m\n\u001b[0;32m   2927\u001b[0m \u001b[39mOpens and identifies the given image file.\u001b[39;00m\n\u001b[0;32m   2928\u001b[0m \n\u001b[1;32m   (...)\u001b[0m\n\u001b[0;32m   2951\u001b[0m \u001b[39m:exception TypeError: If ``formats`` is not ``None``, a list or a tuple.\u001b[39;00m\n\u001b[0;32m   2952\u001b[0m \u001b[39m\"\"\"\u001b[39;00m\n\u001b[0;32m   2954\u001b[0m \u001b[39mif\u001b[39;00m mode \u001b[39m!=\u001b[39m \u001b[39m\"\u001b[39m\u001b[39mr\u001b[39m\u001b[39m\"\u001b[39m:\n\u001b[1;32m-> 2955\u001b[0m     \u001b[39mraise\u001b[39;00m \u001b[39mValueError\u001b[39;00m(\u001b[39mf\u001b[39m\u001b[39m\"\u001b[39m\u001b[39mbad mode \u001b[39m\u001b[39m{\u001b[39;00m\u001b[39mrepr\u001b[39m(mode)\u001b[39m}\u001b[39;00m\u001b[39m\"\u001b[39m)\n\u001b[0;32m   2956\u001b[0m \u001b[39melif\u001b[39;00m \u001b[39misinstance\u001b[39m(fp, io\u001b[39m.\u001b[39mStringIO):\n\u001b[0;32m   2957\u001b[0m     \u001b[39mraise\u001b[39;00m \u001b[39mValueError\u001b[39;00m(\n\u001b[0;32m   2958\u001b[0m         \u001b[39m\"\u001b[39m\u001b[39mStringIO cannot be used to open an image. \u001b[39m\u001b[39m\"\u001b[39m\n\u001b[0;32m   2959\u001b[0m         \u001b[39m\"\u001b[39m\u001b[39mBinary data must be used instead.\u001b[39m\u001b[39m\"\u001b[39m\n\u001b[0;32m   2960\u001b[0m     )\n",
      "\u001b[1;31mValueError\u001b[0m: bad mode <function myfun at 0x000001713BB95700>"
     ]
    }
   ],
   "source": [
    "from PIL import Image\n",
    "def myfun(x):\n",
    "    print(x)\n",
    "    return x-100\n",
    "\n",
    "im = Image.open(\"logo.jpg\", myfun)\n",
    "\n"
   ]
  }
 ],
 "metadata": {
  "kernelspec": {
   "display_name": "routine",
   "language": "python",
   "name": "python3"
  },
  "language_info": {
   "codemirror_mode": {
    "name": "ipython",
    "version": 3
   },
   "file_extension": ".py",
   "mimetype": "text/x-python",
   "name": "python",
   "nbconvert_exporter": "python",
   "pygments_lexer": "ipython3",
   "version": "3.9.1"
  }
 },
 "nbformat": 4,
 "nbformat_minor": 2
}
